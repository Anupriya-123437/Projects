{
 "cells": [
  {
   "cell_type": "code",
   "execution_count": null,
   "id": "5b85a421-a224-4576-9702-41cee8033e80",
   "metadata": {},
   "outputs": [],
   "source": [
    "import pandas as pd\n",
    "import seaborn as sns\n",
    "import matplotlib\n",
    "plt.style.use('ggplot')\n",
    "import matplotlib.pyplot as plt\n",
    "import numpy as np\n",
    "\n",
    "%matplotlib inline\n",
    "matplotlib.rcParams['figure.figsize'] = (12, 8)\n",
    "data = pd.read_csv('C:\\\\Users\\\\win 10\\\\Desktop\\\\Anupriya Lokras - 0901CM191013\\\\movies.csv')\n",
    "data"
   ]
  },
  {
   "cell_type": "code",
   "execution_count": null,
   "id": "b4dc3229-079e-4134-bd98-37b518d3896f",
   "metadata": {},
   "outputs": [],
   "source": [
    "#lets see if there is any missing data\n",
    "for col in data.columns:\n",
    "    percent = np.mean(data[col].isnull())\n",
    "    print(f'{col}: {percent:.2f}%')"
   ]
  },
  {
   "cell_type": "code",
   "execution_count": null,
   "id": "cef89a1a-65f2-47dd-af29-507079eb83f8",
   "metadata": {},
   "outputs": [],
   "source": [
    "#change data type\n",
    "data.dtypes\n",
    "\n",
    "# Convert the 'budget' column to numeric, coerce errors to NaN\n",
    "data['budget'] = pd.to_numeric(data['budget'], errors='coerce')\n",
    "\n",
    "# Fill NaN values with 0 (or any other value you find appropriate)\n",
    "data['budget'] = data['budget'].fillna(0)\n",
    "\n",
    "# Convert the 'budget' column to integer type\n",
    "data['budget'] = data['budget'].astype(int)\n"
   ]
  },
  {
   "cell_type": "code",
   "execution_count": null,
   "id": "3492748c-2510-4161-945c-cf12cc224b21",
   "metadata": {},
   "outputs": [],
   "source": [
    "data.dtypes\n",
    "\n",
    "# Convert the 'budget' column to numeric, coerce errors to NaN\n",
    "data['gross'] = pd.to_numeric(data['gross'], errors='coerce')\n",
    "\n",
    "# Fill NaN values with 0 (or any other value you find appropriate)\n",
    "data['gross'] = data['gross'].fillna(0)\n",
    "\n",
    "# Convert the 'budget' column to integer type\n",
    "data['gross'] = data['gross'].astype(int)"
   ]
  },
  {
   "cell_type": "code",
   "execution_count": null,
   "id": "32ba4095-19ba-43ba-8060-f01b695ec872",
   "metadata": {
    "scrolled": true
   },
   "outputs": [],
   "source": [
    "#create correct year column\n",
    "data['correct_year']  = data['released'].astype(str)\n",
    "data['correct_year'] = data['released'].str.extract(r'(\\b\\d{4}\\b)')\n",
    "data.head()"
   ]
  },
  {
   "cell_type": "code",
   "execution_count": null,
   "id": "2cea88ce-86dc-474f-b833-807d317534fe",
   "metadata": {},
   "outputs": [],
   "source": [
    "data.dtypes"
   ]
  },
  {
   "cell_type": "code",
   "execution_count": null,
   "id": "294571af-79fe-42ac-a9f0-c193f77265a0",
   "metadata": {},
   "outputs": [],
   "source": [
    "pd.set_option('display.max_rows', None)\n",
    "data.sort_values(by=['gross'], inplace=False, ascending = False)\n"
   ]
  },
  {
   "cell_type": "code",
   "execution_count": null,
   "id": "651514c2-b547-49c6-a1b5-009f2f1d10b6",
   "metadata": {},
   "outputs": [],
   "source": [
    "#drop any duplicates\n",
    "data['company'].drop_duplicates().sort_values()"
   ]
  },
  {
   "cell_type": "code",
   "execution_count": null,
   "id": "67afd062-9460-4806-9992-b3a4a896d002",
   "metadata": {},
   "outputs": [],
   "source": [
    "#Budget high correlation\n",
    "#Company high correlation\n",
    "plt.scatter(x = data['budget'], y = data['gross'])\n",
    "plt.title('Budget vs gross')\n",
    "plt.xlabel('Gross earnings')\n",
    "plt.ylabel('Budget for films')\n",
    "plt.show()"
   ]
  },
  {
   "cell_type": "code",
   "execution_count": null,
   "id": "7a27c7d8-667c-4e7d-ba4b-bce590d6285b",
   "metadata": {},
   "outputs": [],
   "source": [
    "#plot budget vs gross using seaborn\n",
    "sns.regplot(x = 'budget', y = 'gross', data=data, scatter_kws = {\"color\":\"red\"}, line_kws = {\"color\":\"blue\"})"
   ]
  },
  {
   "cell_type": "code",
   "execution_count": null,
   "id": "96430bd1-abff-462c-bfde-716c9e6df195",
   "metadata": {
    "scrolled": true
   },
   "outputs": [],
   "source": [
    "#lets start looking at correlation\n",
    "# Select only numeric columns\n",
    "numeric_data = data.select_dtypes(include=[np.number])\n",
    "\n",
    "# Calculate the correlation matrix\n",
    "correlation_matrix = numeric_data.corr(method='pearson')\n",
    "\n",
    "print(correlation_matrix)\n",
    "sns.heatmap(correlation_matrix, annot=True, cmap='coolwarm', linewidths=0.5, fmt='.2f')"
   ]
  },
  {
   "cell_type": "code",
   "execution_count": null,
   "id": "2d43f15a-3bae-4bdc-a470-26dbfd934bff",
   "metadata": {},
   "outputs": [],
   "source": [
    "# String to find\n",
    "search_string = 'The Shining'\n",
    "\n",
    "# Apply a function to check if each element contains the search string\n",
    "result = data.applymap(lambda x: search_string in str(x))\n",
    "\n",
    "# Display the DataFrame where the search string is found\n",
    "found_locations = result[result == True]\n",
    "\n",
    "print(found_locations)\n"
   ]
  },
  {
   "cell_type": "code",
   "execution_count": null,
   "id": "c36281ab-7691-4233-b0ee-3c2a4356169b",
   "metadata": {},
   "outputs": [],
   "source": [
    "# to convert every value in the numeric form\n",
    "data_num = data\n",
    "for col in data_num.columns:\n",
    "    if(data_num[col].dtype == 'object'):\n",
    "        data_num[col] = data_num[col].astype('category')\n",
    "        data_num[col] = data_num[col].cat.codes\n",
    "\n",
    "data_num\n",
    "    "
   ]
  },
  {
   "cell_type": "code",
   "execution_count": null,
   "id": "946d7d44-9388-486e-8191-7234815ef1bd",
   "metadata": {},
   "outputs": [],
   "source": [
    "data"
   ]
  },
  {
   "cell_type": "code",
   "execution_count": null,
   "id": "f6c6b90c-2a7d-46ea-932a-eb64215cd544",
   "metadata": {},
   "outputs": [],
   "source": [
    "coreltion = data_num.corr(method = \"pearson\")\n",
    "sns.heatmap(coreltion,annot=True)\n",
    "plt.show()"
   ]
  },
  {
   "cell_type": "code",
   "execution_count": null,
   "id": "4cb18ba3-9f95-4f9b-b6a2-243fa81aa8bd",
   "metadata": {},
   "outputs": [],
   "source": [
    "correlation = data_num.corr()\n",
    "corr_pairs = correlation.unstack()\n",
    "corr_pairs"
   ]
  },
  {
   "cell_type": "code",
   "execution_count": null,
   "id": "f56ef551-a37d-4033-a1f6-0290cec9f2bd",
   "metadata": {},
   "outputs": [],
   "source": [
    "sorted_pairs = corr_pairs.sort_values()\n",
    "sorted_pairs"
   ]
  },
  {
   "cell_type": "code",
   "execution_count": null,
   "id": "d69310f2-bff3-47d3-8e9a-aa053c3f3e18",
   "metadata": {},
   "outputs": [],
   "source": [
    "high_corr = sorted_pairs[(sorted_pairs)>0.5]\n",
    "high_corr"
   ]
  },
  {
   "cell_type": "code",
   "execution_count": null,
   "id": "e9b60b69-a9b3-47af-be26-13c1e39e6774",
   "metadata": {},
   "outputs": [],
   "source": []
  }
 ],
 "metadata": {
  "kernelspec": {
   "display_name": "Python 3 (ipykernel)",
   "language": "python",
   "name": "python3"
  },
  "language_info": {
   "codemirror_mode": {
    "name": "ipython",
    "version": 3
   },
   "file_extension": ".py",
   "mimetype": "text/x-python",
   "name": "python",
   "nbconvert_exporter": "python",
   "pygments_lexer": "ipython3",
   "version": "3.11.7"
  }
 },
 "nbformat": 4,
 "nbformat_minor": 5
}
